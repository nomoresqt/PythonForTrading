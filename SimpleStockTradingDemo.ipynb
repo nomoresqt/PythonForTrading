{
 "cells": [
  {
   "cell_type": "markdown",
   "metadata": {},
   "source": [
    "#### This simple strategy is for demonstration only! Momentum effect is a market anomaly. Classic financial theory assumes that the market is efficient, thus it’s impossible to outperform the market benchmark. However, due to investors’ cognitive biases, momentum effect has been proven to be a profitable strategy overtime, especially for small players (such as retail traders) whose trading size is so small, it won’t affect the market micro structure. However, for big players such as institution investors, when their trade size are too big, it will affect market micro structure, and price will run away from them. For big player, a good execution strategy is more important.  https://en.wikipedia.org/wiki/Momentum_(finance)"
   ]
  },
  {
   "cell_type": "markdown",
   "metadata": {},
   "source": [
    "#### A moving average is commonly used with time series data to smooth out short-term fluctuations and highlight longer-term trends or cycles. The threshold between short-term and long-term depends on the application, and the parameters of the moving average will be set accordingly. For example, it is often used in technical analysis of financial data, like stock prices, returns or trading volumes. https://en.wikipedia.org/wiki/Moving_average"
   ]
  },
  {
   "cell_type": "markdown",
   "metadata": {},
   "source": [
    "### NOTES\n",
    "- Get historical data from yahoo finance API\n",
    "- Caculate Fast and Slow moving averages \n",
    "- Rule: when Fast moving average (shorter period) is above Slow moving average (longer period) we go long\n",
    "- Rule: when Slow moving average is above Fast moving average we go Short\n",
    "- We buy or short selling 1000 shares based on signal. If the signal doesn't change, we hold the position\n",
    "- This simple demo ingores transaction cost and the cost of short selling\n",
    "- This is strategy is simplified for this demo"
   ]
  },
  {
   "cell_type": "markdown",
   "metadata": {},
   "source": [
    "### First import all Libraries"
   ]
  },
  {
   "cell_type": "code",
   "execution_count": 1,
   "metadata": {
    "scrolled": true
   },
   "outputs": [
    {
     "name": "stdout",
     "output_type": "stream",
     "text": [
      "Libraries imported\n"
     ]
    }
   ],
   "source": [
    "#import libraries \n",
    "import pandas as pd\n",
    "\n",
    "#Don't forget to install datareader from the terminal, pip \n",
    "import pandas_datareader as pdr\n",
    "import numpy as np\n",
    "import matplotlib.pyplot as plt\n",
    "\n",
    "#%matplotlib inline\n",
    "from pandas.plotting import register_matplotlib_converters \n",
    "register_matplotlib_converters()\n",
    "import matplotlib.dates as mdates\n",
    "print(\"Libraries imported\")"
   ]
  },
  {
   "cell_type": "markdown",
   "metadata": {},
   "source": [
    "### Get Historical Data from Yahoo Finance API and store as a pandas dataframe"
   ]
  },
  {
   "cell_type": "markdown",
   "metadata": {},
   "source": [
    "##### Some stock symbols:\n",
    "- TOMTOM: TOM2.AS\n",
    "- TESLA: TSLA\n",
    "- Be Semiconductors BESI.AS\n",
    "- Amsterdam AEX index: ^AEX\n",
    "- S&P500 ^GSPC"
   ]
  },
  {
   "cell_type": "code",
   "execution_count": 2,
   "metadata": {},
   "outputs": [],
   "source": [
    "# read csv file as a pandas dataframe. CSV downloaded from yahoo finance\n",
    "# if no datareader installed, download CSV file of historical price and read csv from the local folder\n",
    "# df = pd.read_csv('TOM2AS.csv', index_col=['Date']) , read from locak folder\n",
    "# df = pdr.get_data_yahoo('^GSPC', '1997-05-01') , for trading index use longer period SlowMA such as 200, 300\n",
    "\n",
    "df = pdr.get_data_yahoo('BESI.AS', '2013-05-01')\n"
   ]
  },
  {
   "cell_type": "code",
   "execution_count": 3,
   "metadata": {},
   "outputs": [
    {
     "data": {
      "text/html": [
       "<div>\n",
       "<style scoped>\n",
       "    .dataframe tbody tr th:only-of-type {\n",
       "        vertical-align: middle;\n",
       "    }\n",
       "\n",
       "    .dataframe tbody tr th {\n",
       "        vertical-align: top;\n",
       "    }\n",
       "\n",
       "    .dataframe thead th {\n",
       "        text-align: right;\n",
       "    }\n",
       "</style>\n",
       "<table border=\"1\" class=\"dataframe\">\n",
       "  <thead>\n",
       "    <tr style=\"text-align: right;\">\n",
       "      <th></th>\n",
       "      <th>High</th>\n",
       "      <th>Low</th>\n",
       "      <th>Open</th>\n",
       "      <th>Close</th>\n",
       "      <th>Volume</th>\n",
       "      <th>Adj Close</th>\n",
       "    </tr>\n",
       "    <tr>\n",
       "      <th>Date</th>\n",
       "      <th></th>\n",
       "      <th></th>\n",
       "      <th></th>\n",
       "      <th></th>\n",
       "      <th></th>\n",
       "      <th></th>\n",
       "    </tr>\n",
       "  </thead>\n",
       "  <tbody>\n",
       "    <tr>\n",
       "      <th>2013-05-02</th>\n",
       "      <td>3.6000</td>\n",
       "      <td>3.5000</td>\n",
       "      <td>3.5000</td>\n",
       "      <td>3.5985</td>\n",
       "      <td>374958.0</td>\n",
       "      <td>2.089920</td>\n",
       "    </tr>\n",
       "    <tr>\n",
       "      <th>2013-05-03</th>\n",
       "      <td>3.6100</td>\n",
       "      <td>3.5750</td>\n",
       "      <td>3.5750</td>\n",
       "      <td>3.5865</td>\n",
       "      <td>197270.0</td>\n",
       "      <td>2.082951</td>\n",
       "    </tr>\n",
       "    <tr>\n",
       "      <th>2013-05-06</th>\n",
       "      <td>3.6000</td>\n",
       "      <td>3.5810</td>\n",
       "      <td>3.5955</td>\n",
       "      <td>3.5810</td>\n",
       "      <td>55436.0</td>\n",
       "      <td>2.079757</td>\n",
       "    </tr>\n",
       "    <tr>\n",
       "      <th>2013-05-07</th>\n",
       "      <td>3.6145</td>\n",
       "      <td>3.5470</td>\n",
       "      <td>3.6000</td>\n",
       "      <td>3.6140</td>\n",
       "      <td>208560.0</td>\n",
       "      <td>2.098922</td>\n",
       "    </tr>\n",
       "    <tr>\n",
       "      <th>2013-05-08</th>\n",
       "      <td>3.6150</td>\n",
       "      <td>3.5750</td>\n",
       "      <td>3.6150</td>\n",
       "      <td>3.6125</td>\n",
       "      <td>75338.0</td>\n",
       "      <td>2.098051</td>\n",
       "    </tr>\n",
       "    <tr>\n",
       "      <th>2013-05-09</th>\n",
       "      <td>3.7245</td>\n",
       "      <td>3.6190</td>\n",
       "      <td>3.6250</td>\n",
       "      <td>3.7145</td>\n",
       "      <td>507658.0</td>\n",
       "      <td>2.157290</td>\n",
       "    </tr>\n",
       "    <tr>\n",
       "      <th>2013-05-10</th>\n",
       "      <td>3.7500</td>\n",
       "      <td>3.7005</td>\n",
       "      <td>3.7005</td>\n",
       "      <td>3.7450</td>\n",
       "      <td>418904.0</td>\n",
       "      <td>2.175004</td>\n",
       "    </tr>\n",
       "    <tr>\n",
       "      <th>2013-05-13</th>\n",
       "      <td>3.8000</td>\n",
       "      <td>3.7490</td>\n",
       "      <td>3.7500</td>\n",
       "      <td>3.8000</td>\n",
       "      <td>266850.0</td>\n",
       "      <td>2.206946</td>\n",
       "    </tr>\n",
       "    <tr>\n",
       "      <th>2013-05-14</th>\n",
       "      <td>3.8000</td>\n",
       "      <td>3.7800</td>\n",
       "      <td>3.8000</td>\n",
       "      <td>3.7900</td>\n",
       "      <td>209724.0</td>\n",
       "      <td>2.201138</td>\n",
       "    </tr>\n",
       "    <tr>\n",
       "      <th>2013-05-15</th>\n",
       "      <td>3.8000</td>\n",
       "      <td>3.7580</td>\n",
       "      <td>3.7900</td>\n",
       "      <td>3.7900</td>\n",
       "      <td>188116.0</td>\n",
       "      <td>2.201138</td>\n",
       "    </tr>\n",
       "  </tbody>\n",
       "</table>\n",
       "</div>"
      ],
      "text/plain": [
       "              High     Low    Open   Close    Volume  Adj Close\n",
       "Date                                                           \n",
       "2013-05-02  3.6000  3.5000  3.5000  3.5985  374958.0   2.089920\n",
       "2013-05-03  3.6100  3.5750  3.5750  3.5865  197270.0   2.082951\n",
       "2013-05-06  3.6000  3.5810  3.5955  3.5810   55436.0   2.079757\n",
       "2013-05-07  3.6145  3.5470  3.6000  3.6140  208560.0   2.098922\n",
       "2013-05-08  3.6150  3.5750  3.6150  3.6125   75338.0   2.098051\n",
       "2013-05-09  3.7245  3.6190  3.6250  3.7145  507658.0   2.157290\n",
       "2013-05-10  3.7500  3.7005  3.7005  3.7450  418904.0   2.175004\n",
       "2013-05-13  3.8000  3.7490  3.7500  3.8000  266850.0   2.206946\n",
       "2013-05-14  3.8000  3.7800  3.8000  3.7900  209724.0   2.201138\n",
       "2013-05-15  3.8000  3.7580  3.7900  3.7900  188116.0   2.201138"
      ]
     },
     "execution_count": 3,
     "metadata": {},
     "output_type": "execute_result"
    }
   ],
   "source": [
    "# The dataset contains Date, Open, high, low, and close (closed price)\n",
    "df.head(10)\n"
   ]
  },
  {
   "cell_type": "markdown",
   "metadata": {},
   "source": [
    "### We only Daily Close price for this strategy "
   ]
  },
  {
   "cell_type": "markdown",
   "metadata": {},
   "source": [
    "#### Create a new dataframe for Close, Slow moving average, Fast moving average"
   ]
  },
  {
   "cell_type": "code",
   "execution_count": 4,
   "metadata": {},
   "outputs": [
    {
     "data": {
      "text/html": [
       "<div>\n",
       "<style scoped>\n",
       "    .dataframe tbody tr th:only-of-type {\n",
       "        vertical-align: middle;\n",
       "    }\n",
       "\n",
       "    .dataframe tbody tr th {\n",
       "        vertical-align: top;\n",
       "    }\n",
       "\n",
       "    .dataframe thead th {\n",
       "        text-align: right;\n",
       "    }\n",
       "</style>\n",
       "<table border=\"1\" class=\"dataframe\">\n",
       "  <thead>\n",
       "    <tr style=\"text-align: right;\">\n",
       "      <th></th>\n",
       "      <th>Close</th>\n",
       "    </tr>\n",
       "    <tr>\n",
       "      <th>Date</th>\n",
       "      <th></th>\n",
       "    </tr>\n",
       "  </thead>\n",
       "  <tbody>\n",
       "    <tr>\n",
       "      <th>2013-05-02</th>\n",
       "      <td>3.5985</td>\n",
       "    </tr>\n",
       "    <tr>\n",
       "      <th>2013-05-03</th>\n",
       "      <td>3.5865</td>\n",
       "    </tr>\n",
       "    <tr>\n",
       "      <th>2013-05-06</th>\n",
       "      <td>3.5810</td>\n",
       "    </tr>\n",
       "    <tr>\n",
       "      <th>2013-05-07</th>\n",
       "      <td>3.6140</td>\n",
       "    </tr>\n",
       "    <tr>\n",
       "      <th>2013-05-08</th>\n",
       "      <td>3.6125</td>\n",
       "    </tr>\n",
       "  </tbody>\n",
       "</table>\n",
       "</div>"
      ],
      "text/plain": [
       "             Close\n",
       "Date              \n",
       "2013-05-02  3.5985\n",
       "2013-05-03  3.5865\n",
       "2013-05-06  3.5810\n",
       "2013-05-07  3.6140\n",
       "2013-05-08  3.6125"
      ]
     },
     "execution_count": 4,
     "metadata": {},
     "output_type": "execute_result"
    }
   ],
   "source": [
    "dfClose = pd.DataFrame(df.Close)\n",
    "dfClose.head()"
   ]
  },
  {
   "cell_type": "markdown",
   "metadata": {},
   "source": [
    "#### In this demo I use 10 days as fasting moving average, 2 trading weeks. Use 42 as Slow moving average, 2 trading months"
   ]
  },
  {
   "cell_type": "code",
   "execution_count": 5,
   "metadata": {},
   "outputs": [
    {
     "data": {
      "text/plain": [
       "Date\n",
       "2013-05-02   NaN\n",
       "2013-05-03   NaN\n",
       "2013-05-06   NaN\n",
       "2013-05-07   NaN\n",
       "2013-05-08   NaN\n",
       "Name: MAFast, dtype: float64"
      ]
     },
     "execution_count": 5,
     "metadata": {},
     "output_type": "execute_result"
    }
   ],
   "source": [
    "#fast moving average, set center =True, smooth it out so it lag a little bit\n",
    "dfClose['MAFast'] = dfClose.Close.rolling(window=15, center=True).mean()\n",
    "#fast_rolling.head()\n",
    "dfClose['MAFast'].head()\n"
   ]
  },
  {
   "cell_type": "code",
   "execution_count": 6,
   "metadata": {},
   "outputs": [],
   "source": [
    "dfClose['MASlow'] = dfClose.Close.rolling(window=50, center=True).mean()\n",
    "#slow_rolling.tail()"
   ]
  },
  {
   "cell_type": "code",
   "execution_count": 7,
   "metadata": {},
   "outputs": [
    {
     "data": {
      "text/plain": [
       "<function matplotlib.pyplot.show(*args, **kw)>"
      ]
     },
     "execution_count": 7,
     "metadata": {},
     "output_type": "execute_result"
    },
    {
     "data": {
      "image/png": "[encoded data removed]",
      "text/plain": [
       "<Figure size 1080x720 with 1 Axes>"
      ]
     },
     "metadata": {
      "needs_background": "light"
     },
     "output_type": "display_data"
    }
   ],
   "source": [
    "#plot the close price\n",
    "plt.figure(figsize=(15,10))\n",
    "dfClose['Close'].plot(grid =True)\n",
    "plt.title(\"Stock Close Price\")\n",
    "plt.show"
   ]
  },
  {
   "cell_type": "code",
   "execution_count": 8,
   "metadata": {},
   "outputs": [
    {
     "data": {
      "text/plain": [
       "<function matplotlib.pyplot.show(*args, **kw)>"
      ]
     },
     "execution_count": 8,
     "metadata": {},
     "output_type": "execute_result"
    },
    {
     "data": {
      "image/png": "[encoded data removed]",
      "text/plain": [
       "<Figure size 1224x864 with 1 Axes>"
      ]
     },
     "metadata": {
      "needs_background": "light"
     },
     "output_type": "display_data"
    }
   ],
   "source": [
    "#plot the close price and MAs\n",
    "plt.figure(figsize=(17,12))\n",
    "dfClose['Close'].plot(grid =True)\n",
    "dfClose['MAFast'].plot(grid =True)\n",
    "dfClose['MASlow'].plot(grid =True)\n",
    "plt.title(\"Stock Close Price\")\n",
    "plt.legend(loc=2)\n",
    "plt.show"
   ]
  },
  {
   "cell_type": "code",
   "execution_count": 9,
   "metadata": {},
   "outputs": [],
   "source": [
    "dfClose['Change'] = np.log(dfClose['Close']/dfClose['Close'].shift())"
   ]
  },
  {
   "cell_type": "code",
   "execution_count": 10,
   "metadata": {
    "scrolled": false
   },
   "outputs": [
    {
     "data": {
      "text/plain": [
       "[<matplotlib.lines.Line2D at 0x122faaf60>]"
      ]
     },
     "execution_count": 10,
     "metadata": {},
     "output_type": "execute_result"
    },
    {
     "data": {
      "image/png": "[encoded data removed]",
      "text/plain": [
       "<Figure size 1080x720 with 1 Axes>"
      ]
     },
     "metadata": {
      "needs_background": "light"
     },
     "output_type": "display_data"
    }
   ],
   "source": [
    "# How prices change fluctuats around 0\n",
    "plt.figure(figsize=(15,10))\n",
    "plt.plot(dfClose.Change)"
   ]
  },
  {
   "cell_type": "markdown",
   "metadata": {},
   "source": [
    "##### Caculate the histroical volatility of equity, 21 trading days a month and shift one day, so volatility is on the next day"
   ]
  },
  {
   "cell_type": "markdown",
   "metadata": {},
   "source": [
    "##### Volatility is very important for trading in real world, a good strategy should adjust position sizes based on volatility or Average True Range, in this demo, we just take a look of simple way of pulling out volatility from stock price."
   ]
  },
  {
   "cell_type": "code",
   "execution_count": 11,
   "metadata": {},
   "outputs": [
    {
     "data": {
      "text/html": [
       "<div>\n",
       "<style scoped>\n",
       "    .dataframe tbody tr th:only-of-type {\n",
       "        vertical-align: middle;\n",
       "    }\n",
       "\n",
       "    .dataframe tbody tr th {\n",
       "        vertical-align: top;\n",
       "    }\n",
       "\n",
       "    .dataframe thead th {\n",
       "        text-align: right;\n",
       "    }\n",
       "</style>\n",
       "<table border=\"1\" class=\"dataframe\">\n",
       "  <thead>\n",
       "    <tr style=\"text-align: right;\">\n",
       "      <th></th>\n",
       "      <th>Close</th>\n",
       "      <th>MAFast</th>\n",
       "      <th>MASlow</th>\n",
       "      <th>Change</th>\n",
       "      <th>Volatility</th>\n",
       "    </tr>\n",
       "    <tr>\n",
       "      <th>Date</th>\n",
       "      <th></th>\n",
       "      <th></th>\n",
       "      <th></th>\n",
       "      <th></th>\n",
       "      <th></th>\n",
       "    </tr>\n",
       "  </thead>\n",
       "  <tbody>\n",
       "    <tr>\n",
       "      <th>2013-05-02</th>\n",
       "      <td>3.5985</td>\n",
       "      <td>NaN</td>\n",
       "      <td>NaN</td>\n",
       "      <td>NaN</td>\n",
       "      <td>NaN</td>\n",
       "    </tr>\n",
       "    <tr>\n",
       "      <th>2013-05-03</th>\n",
       "      <td>3.5865</td>\n",
       "      <td>NaN</td>\n",
       "      <td>NaN</td>\n",
       "      <td>-0.003340</td>\n",
       "      <td>NaN</td>\n",
       "    </tr>\n",
       "    <tr>\n",
       "      <th>2013-05-06</th>\n",
       "      <td>3.5810</td>\n",
       "      <td>NaN</td>\n",
       "      <td>NaN</td>\n",
       "      <td>-0.001535</td>\n",
       "      <td>NaN</td>\n",
       "    </tr>\n",
       "    <tr>\n",
       "      <th>2013-05-07</th>\n",
       "      <td>3.6140</td>\n",
       "      <td>NaN</td>\n",
       "      <td>NaN</td>\n",
       "      <td>0.009173</td>\n",
       "      <td>NaN</td>\n",
       "    </tr>\n",
       "    <tr>\n",
       "      <th>2013-05-08</th>\n",
       "      <td>3.6125</td>\n",
       "      <td>NaN</td>\n",
       "      <td>NaN</td>\n",
       "      <td>-0.000415</td>\n",
       "      <td>NaN</td>\n",
       "    </tr>\n",
       "  </tbody>\n",
       "</table>\n",
       "</div>"
      ],
      "text/plain": [
       "             Close  MAFast  MASlow    Change  Volatility\n",
       "Date                                                    \n",
       "2013-05-02  3.5985     NaN     NaN       NaN         NaN\n",
       "2013-05-03  3.5865     NaN     NaN -0.003340         NaN\n",
       "2013-05-06  3.5810     NaN     NaN -0.001535         NaN\n",
       "2013-05-07  3.6140     NaN     NaN  0.009173         NaN\n",
       "2013-05-08  3.6125     NaN     NaN -0.000415         NaN"
      ]
     },
     "execution_count": 11,
     "metadata": {},
     "output_type": "execute_result"
    }
   ],
   "source": [
    "# use standard deviation to measure the volatility \n",
    "dfClose['Volatility'] = dfClose.Change.rolling(21).std().shift()\n",
    "dfClose.head()"
   ]
  },
  {
   "cell_type": "code",
   "execution_count": 12,
   "metadata": {},
   "outputs": [
    {
     "data": {
      "text/plain": [
       "[<matplotlib.lines.Line2D at 0x123bef1d0>]"
      ]
     },
     "execution_count": 12,
     "metadata": {},
     "output_type": "execute_result"
    },
    {
     "data": {
      "image/png": "[encoded data removed]",
      "text/plain": [
       "<Figure size 1080x720 with 1 Axes>"
      ]
     },
     "metadata": {
      "needs_background": "light"
     },
     "output_type": "display_data"
    }
   ],
   "source": [
    "plt.figure(figsize=(15,10))\n",
    "plt.plot(dfClose.Volatility)"
   ]
  },
  {
   "cell_type": "markdown",
   "metadata": {},
   "source": [
    "#### Higher Volatility  makes it a good stock for swing trading"
   ]
  },
  {
   "cell_type": "code",
   "execution_count": 13,
   "metadata": {},
   "outputs": [
    {
     "data": {
      "text/html": [
       "<div>\n",
       "<style scoped>\n",
       "    .dataframe tbody tr th:only-of-type {\n",
       "        vertical-align: middle;\n",
       "    }\n",
       "\n",
       "    .dataframe tbody tr th {\n",
       "        vertical-align: top;\n",
       "    }\n",
       "\n",
       "    .dataframe thead th {\n",
       "        text-align: right;\n",
       "    }\n",
       "</style>\n",
       "<table border=\"1\" class=\"dataframe\">\n",
       "  <thead>\n",
       "    <tr style=\"text-align: right;\">\n",
       "      <th></th>\n",
       "      <th>Close</th>\n",
       "      <th>MAFast</th>\n",
       "      <th>MASlow</th>\n",
       "      <th>Change</th>\n",
       "      <th>Volatility</th>\n",
       "    </tr>\n",
       "    <tr>\n",
       "      <th>Date</th>\n",
       "      <th></th>\n",
       "      <th></th>\n",
       "      <th></th>\n",
       "      <th></th>\n",
       "      <th></th>\n",
       "    </tr>\n",
       "  </thead>\n",
       "  <tbody>\n",
       "    <tr>\n",
       "      <th>2013-06-06</th>\n",
       "      <td>3.6750</td>\n",
       "      <td>3.693933</td>\n",
       "      <td>3.80227</td>\n",
       "      <td>0.003134</td>\n",
       "      <td>0.009921</td>\n",
       "    </tr>\n",
       "    <tr>\n",
       "      <th>2013-06-07</th>\n",
       "      <td>3.6740</td>\n",
       "      <td>3.707267</td>\n",
       "      <td>3.81360</td>\n",
       "      <td>-0.000272</td>\n",
       "      <td>0.009933</td>\n",
       "    </tr>\n",
       "    <tr>\n",
       "      <th>2013-06-10</th>\n",
       "      <td>3.6165</td>\n",
       "      <td>3.723767</td>\n",
       "      <td>3.82816</td>\n",
       "      <td>-0.015774</td>\n",
       "      <td>0.007766</td>\n",
       "    </tr>\n",
       "    <tr>\n",
       "      <th>2013-06-11</th>\n",
       "      <td>3.5710</td>\n",
       "      <td>3.736900</td>\n",
       "      <td>3.84404</td>\n",
       "      <td>-0.012661</td>\n",
       "      <td>0.008173</td>\n",
       "    </tr>\n",
       "    <tr>\n",
       "      <th>2013-06-12</th>\n",
       "      <td>3.5570</td>\n",
       "      <td>3.746433</td>\n",
       "      <td>3.85928</td>\n",
       "      <td>-0.003928</td>\n",
       "      <td>0.007608</td>\n",
       "    </tr>\n",
       "  </tbody>\n",
       "</table>\n",
       "</div>"
      ],
      "text/plain": [
       "             Close    MAFast   MASlow    Change  Volatility\n",
       "Date                                                       \n",
       "2013-06-06  3.6750  3.693933  3.80227  0.003134    0.009921\n",
       "2013-06-07  3.6740  3.707267  3.81360 -0.000272    0.009933\n",
       "2013-06-10  3.6165  3.723767  3.82816 -0.015774    0.007766\n",
       "2013-06-11  3.5710  3.736900  3.84404 -0.012661    0.008173\n",
       "2013-06-12  3.5570  3.746433  3.85928 -0.003928    0.007608"
      ]
     },
     "execution_count": 13,
     "metadata": {},
     "output_type": "execute_result"
    }
   ],
   "source": [
    "dfCloseTrade = dfClose.dropna()\n",
    "dfCloseTrade.head()"
   ]
  },
  {
   "cell_type": "markdown",
   "metadata": {},
   "source": [
    "#### If MA fast(shorter time period) is above MA Slow, stock shows upwards momentum; If MA fast is below MA slow, stock show downwards momentum"
   ]
  },
  {
   "cell_type": "code",
   "execution_count": 14,
   "metadata": {},
   "outputs": [
    {
     "data": {
      "text/plain": [
       "Date\n",
       "2013-06-06    False\n",
       "2013-06-07    False\n",
       "2013-06-10    False\n",
       "2013-06-11    False\n",
       "2013-06-12    False\n",
       "dtype: bool"
      ]
     },
     "execution_count": 14,
     "metadata": {},
     "output_type": "execute_result"
    }
   ],
   "source": [
    "#Generate a boolean variable, Long, if False mean Short the stock, if True means Long the stock\n",
    "Long=  dfCloseTrade['MAFast'] >= dfCloseTrade['MASlow']\n",
    "Long.head()"
   ]
  },
  {
   "cell_type": "code",
   "execution_count": 15,
   "metadata": {},
   "outputs": [
    {
     "data": {
      "text/html": [
       "<div>\n",
       "<style scoped>\n",
       "    .dataframe tbody tr th:only-of-type {\n",
       "        vertical-align: middle;\n",
       "    }\n",
       "\n",
       "    .dataframe tbody tr th {\n",
       "        vertical-align: top;\n",
       "    }\n",
       "\n",
       "    .dataframe thead th {\n",
       "        text-align: right;\n",
       "    }\n",
       "</style>\n",
       "<table border=\"1\" class=\"dataframe\">\n",
       "  <thead>\n",
       "    <tr style=\"text-align: right;\">\n",
       "      <th></th>\n",
       "      <th>Long</th>\n",
       "    </tr>\n",
       "    <tr>\n",
       "      <th>Date</th>\n",
       "      <th></th>\n",
       "    </tr>\n",
       "  </thead>\n",
       "  <tbody>\n",
       "    <tr>\n",
       "      <th>2013-06-06</th>\n",
       "      <td>False</td>\n",
       "    </tr>\n",
       "    <tr>\n",
       "      <th>2013-06-07</th>\n",
       "      <td>False</td>\n",
       "    </tr>\n",
       "    <tr>\n",
       "      <th>2013-06-10</th>\n",
       "      <td>False</td>\n",
       "    </tr>\n",
       "    <tr>\n",
       "      <th>2013-06-11</th>\n",
       "      <td>False</td>\n",
       "    </tr>\n",
       "    <tr>\n",
       "      <th>2013-06-12</th>\n",
       "      <td>False</td>\n",
       "    </tr>\n",
       "  </tbody>\n",
       "</table>\n",
       "</div>"
      ],
      "text/plain": [
       "             Long\n",
       "Date             \n",
       "2013-06-06  False\n",
       "2013-06-07  False\n",
       "2013-06-10  False\n",
       "2013-06-11  False\n",
       "2013-06-12  False"
      ]
     },
     "execution_count": 15,
     "metadata": {},
     "output_type": "execute_result"
    }
   ],
   "source": [
    "df1 = pd.DataFrame(Long,columns=['Long'])\n",
    "df1.head()"
   ]
  },
  {
   "cell_type": "code",
   "execution_count": 16,
   "metadata": {},
   "outputs": [],
   "source": [
    "df_new = pd.concat([df1, dfCloseTrade],axis=1)"
   ]
  },
  {
   "cell_type": "code",
   "execution_count": 17,
   "metadata": {},
   "outputs": [
    {
     "data": {
      "text/html": [
       "<div>\n",
       "<style scoped>\n",
       "    .dataframe tbody tr th:only-of-type {\n",
       "        vertical-align: middle;\n",
       "    }\n",
       "\n",
       "    .dataframe tbody tr th {\n",
       "        vertical-align: top;\n",
       "    }\n",
       "\n",
       "    .dataframe thead th {\n",
       "        text-align: right;\n",
       "    }\n",
       "</style>\n",
       "<table border=\"1\" class=\"dataframe\">\n",
       "  <thead>\n",
       "    <tr style=\"text-align: right;\">\n",
       "      <th></th>\n",
       "      <th>Long</th>\n",
       "      <th>Close</th>\n",
       "      <th>MAFast</th>\n",
       "      <th>MASlow</th>\n",
       "      <th>Change</th>\n",
       "      <th>Volatility</th>\n",
       "    </tr>\n",
       "    <tr>\n",
       "      <th>Date</th>\n",
       "      <th></th>\n",
       "      <th></th>\n",
       "      <th></th>\n",
       "      <th></th>\n",
       "      <th></th>\n",
       "      <th></th>\n",
       "    </tr>\n",
       "  </thead>\n",
       "  <tbody>\n",
       "    <tr>\n",
       "      <th>2013-06-06</th>\n",
       "      <td>False</td>\n",
       "      <td>3.6750</td>\n",
       "      <td>3.693933</td>\n",
       "      <td>3.80227</td>\n",
       "      <td>0.003134</td>\n",
       "      <td>0.009921</td>\n",
       "    </tr>\n",
       "    <tr>\n",
       "      <th>2013-06-07</th>\n",
       "      <td>False</td>\n",
       "      <td>3.6740</td>\n",
       "      <td>3.707267</td>\n",
       "      <td>3.81360</td>\n",
       "      <td>-0.000272</td>\n",
       "      <td>0.009933</td>\n",
       "    </tr>\n",
       "    <tr>\n",
       "      <th>2013-06-10</th>\n",
       "      <td>False</td>\n",
       "      <td>3.6165</td>\n",
       "      <td>3.723767</td>\n",
       "      <td>3.82816</td>\n",
       "      <td>-0.015774</td>\n",
       "      <td>0.007766</td>\n",
       "    </tr>\n",
       "    <tr>\n",
       "      <th>2013-06-11</th>\n",
       "      <td>False</td>\n",
       "      <td>3.5710</td>\n",
       "      <td>3.736900</td>\n",
       "      <td>3.84404</td>\n",
       "      <td>-0.012661</td>\n",
       "      <td>0.008173</td>\n",
       "    </tr>\n",
       "    <tr>\n",
       "      <th>2013-06-12</th>\n",
       "      <td>False</td>\n",
       "      <td>3.5570</td>\n",
       "      <td>3.746433</td>\n",
       "      <td>3.85928</td>\n",
       "      <td>-0.003928</td>\n",
       "      <td>0.007608</td>\n",
       "    </tr>\n",
       "    <tr>\n",
       "      <th>2013-06-13</th>\n",
       "      <td>False</td>\n",
       "      <td>3.5425</td>\n",
       "      <td>3.746667</td>\n",
       "      <td>3.87605</td>\n",
       "      <td>-0.004085</td>\n",
       "      <td>0.007610</td>\n",
       "    </tr>\n",
       "    <tr>\n",
       "      <th>2013-06-14</th>\n",
       "      <td>False</td>\n",
       "      <td>3.8235</td>\n",
       "      <td>3.752833</td>\n",
       "      <td>3.89093</td>\n",
       "      <td>0.076334</td>\n",
       "      <td>0.007582</td>\n",
       "    </tr>\n",
       "    <tr>\n",
       "      <th>2013-06-17</th>\n",
       "      <td>False</td>\n",
       "      <td>3.8365</td>\n",
       "      <td>3.766733</td>\n",
       "      <td>3.90501</td>\n",
       "      <td>0.003394</td>\n",
       "      <td>0.018892</td>\n",
       "    </tr>\n",
       "    <tr>\n",
       "      <th>2013-06-18</th>\n",
       "      <td>False</td>\n",
       "      <td>3.9500</td>\n",
       "      <td>3.784500</td>\n",
       "      <td>3.91759</td>\n",
       "      <td>0.029155</td>\n",
       "      <td>0.018871</td>\n",
       "    </tr>\n",
       "    <tr>\n",
       "      <th>2013-06-19</th>\n",
       "      <td>False</td>\n",
       "      <td>3.9890</td>\n",
       "      <td>3.803833</td>\n",
       "      <td>3.93057</td>\n",
       "      <td>0.009825</td>\n",
       "      <td>0.019808</td>\n",
       "    </tr>\n",
       "  </tbody>\n",
       "</table>\n",
       "</div>"
      ],
      "text/plain": [
       "             Long   Close    MAFast   MASlow    Change  Volatility\n",
       "Date                                                              \n",
       "2013-06-06  False  3.6750  3.693933  3.80227  0.003134    0.009921\n",
       "2013-06-07  False  3.6740  3.707267  3.81360 -0.000272    0.009933\n",
       "2013-06-10  False  3.6165  3.723767  3.82816 -0.015774    0.007766\n",
       "2013-06-11  False  3.5710  3.736900  3.84404 -0.012661    0.008173\n",
       "2013-06-12  False  3.5570  3.746433  3.85928 -0.003928    0.007608\n",
       "2013-06-13  False  3.5425  3.746667  3.87605 -0.004085    0.007610\n",
       "2013-06-14  False  3.8235  3.752833  3.89093  0.076334    0.007582\n",
       "2013-06-17  False  3.8365  3.766733  3.90501  0.003394    0.018892\n",
       "2013-06-18  False  3.9500  3.784500  3.91759  0.029155    0.018871\n",
       "2013-06-19  False  3.9890  3.803833  3.93057  0.009825    0.019808"
      ]
     },
     "execution_count": 17,
     "metadata": {},
     "output_type": "execute_result"
    }
   ],
   "source": [
    "df_new.head(10)"
   ]
  },
  {
   "cell_type": "code",
   "execution_count": 18,
   "metadata": {},
   "outputs": [],
   "source": [
    "df_new1 =df_new"
   ]
  },
  {
   "cell_type": "code",
   "execution_count": 19,
   "metadata": {},
   "outputs": [],
   "source": [
    "#Caculate price change useing previousClose - Close, use shift() to achieve this\n",
    "df_new1['PriceChange'] = df_new['Close']-df_new['Close'].shift()"
   ]
  },
  {
   "cell_type": "code",
   "execution_count": 20,
   "metadata": {
    "scrolled": true
   },
   "outputs": [
    {
     "data": {
      "text/html": [
       "<div>\n",
       "<style scoped>\n",
       "    .dataframe tbody tr th:only-of-type {\n",
       "        vertical-align: middle;\n",
       "    }\n",
       "\n",
       "    .dataframe tbody tr th {\n",
       "        vertical-align: top;\n",
       "    }\n",
       "\n",
       "    .dataframe thead th {\n",
       "        text-align: right;\n",
       "    }\n",
       "</style>\n",
       "<table border=\"1\" class=\"dataframe\">\n",
       "  <thead>\n",
       "    <tr style=\"text-align: right;\">\n",
       "      <th></th>\n",
       "      <th>Long</th>\n",
       "      <th>Close</th>\n",
       "      <th>MAFast</th>\n",
       "      <th>MASlow</th>\n",
       "      <th>Change</th>\n",
       "      <th>Volatility</th>\n",
       "      <th>PriceChange</th>\n",
       "    </tr>\n",
       "    <tr>\n",
       "      <th>Date</th>\n",
       "      <th></th>\n",
       "      <th></th>\n",
       "      <th></th>\n",
       "      <th></th>\n",
       "      <th></th>\n",
       "      <th></th>\n",
       "      <th></th>\n",
       "    </tr>\n",
       "  </thead>\n",
       "  <tbody>\n",
       "    <tr>\n",
       "      <th>2013-06-06</th>\n",
       "      <td>False</td>\n",
       "      <td>3.6750</td>\n",
       "      <td>3.693933</td>\n",
       "      <td>3.80227</td>\n",
       "      <td>0.003134</td>\n",
       "      <td>0.009921</td>\n",
       "      <td>NaN</td>\n",
       "    </tr>\n",
       "    <tr>\n",
       "      <th>2013-06-07</th>\n",
       "      <td>False</td>\n",
       "      <td>3.6740</td>\n",
       "      <td>3.707267</td>\n",
       "      <td>3.81360</td>\n",
       "      <td>-0.000272</td>\n",
       "      <td>0.009933</td>\n",
       "      <td>-0.0010</td>\n",
       "    </tr>\n",
       "    <tr>\n",
       "      <th>2013-06-10</th>\n",
       "      <td>False</td>\n",
       "      <td>3.6165</td>\n",
       "      <td>3.723767</td>\n",
       "      <td>3.82816</td>\n",
       "      <td>-0.015774</td>\n",
       "      <td>0.007766</td>\n",
       "      <td>-0.0575</td>\n",
       "    </tr>\n",
       "    <tr>\n",
       "      <th>2013-06-11</th>\n",
       "      <td>False</td>\n",
       "      <td>3.5710</td>\n",
       "      <td>3.736900</td>\n",
       "      <td>3.84404</td>\n",
       "      <td>-0.012661</td>\n",
       "      <td>0.008173</td>\n",
       "      <td>-0.0455</td>\n",
       "    </tr>\n",
       "    <tr>\n",
       "      <th>2013-06-12</th>\n",
       "      <td>False</td>\n",
       "      <td>3.5570</td>\n",
       "      <td>3.746433</td>\n",
       "      <td>3.85928</td>\n",
       "      <td>-0.003928</td>\n",
       "      <td>0.007608</td>\n",
       "      <td>-0.0140</td>\n",
       "    </tr>\n",
       "  </tbody>\n",
       "</table>\n",
       "</div>"
      ],
      "text/plain": [
       "             Long   Close    MAFast   MASlow    Change  Volatility  \\\n",
       "Date                                                                 \n",
       "2013-06-06  False  3.6750  3.693933  3.80227  0.003134    0.009921   \n",
       "2013-06-07  False  3.6740  3.707267  3.81360 -0.000272    0.009933   \n",
       "2013-06-10  False  3.6165  3.723767  3.82816 -0.015774    0.007766   \n",
       "2013-06-11  False  3.5710  3.736900  3.84404 -0.012661    0.008173   \n",
       "2013-06-12  False  3.5570  3.746433  3.85928 -0.003928    0.007608   \n",
       "\n",
       "            PriceChange  \n",
       "Date                     \n",
       "2013-06-06          NaN  \n",
       "2013-06-07      -0.0010  \n",
       "2013-06-10      -0.0575  \n",
       "2013-06-11      -0.0455  \n",
       "2013-06-12      -0.0140  "
      ]
     },
     "execution_count": 20,
     "metadata": {},
     "output_type": "execute_result"
    }
   ],
   "source": [
    "df_new1.head()"
   ]
  },
  {
   "cell_type": "markdown",
   "metadata": {},
   "source": [
    "### Assume that : We buy 1000 share, or short sell 1000 share of stock based on signal \n",
    "- Long stock benefits from price moving upward\n",
    "- Short selling benefits from price moving downward"
   ]
  },
  {
   "cell_type": "code",
   "execution_count": 21,
   "metadata": {},
   "outputs": [
    {
     "data": {
      "text/html": [
       "<div>\n",
       "<style scoped>\n",
       "    .dataframe tbody tr th:only-of-type {\n",
       "        vertical-align: middle;\n",
       "    }\n",
       "\n",
       "    .dataframe tbody tr th {\n",
       "        vertical-align: top;\n",
       "    }\n",
       "\n",
       "    .dataframe thead th {\n",
       "        text-align: right;\n",
       "    }\n",
       "</style>\n",
       "<table border=\"1\" class=\"dataframe\">\n",
       "  <thead>\n",
       "    <tr style=\"text-align: right;\">\n",
       "      <th></th>\n",
       "      <th>Long</th>\n",
       "      <th>Close</th>\n",
       "      <th>MAFast</th>\n",
       "      <th>MASlow</th>\n",
       "      <th>Change</th>\n",
       "      <th>Volatility</th>\n",
       "      <th>PriceChange</th>\n",
       "    </tr>\n",
       "    <tr>\n",
       "      <th>Date</th>\n",
       "      <th></th>\n",
       "      <th></th>\n",
       "      <th></th>\n",
       "      <th></th>\n",
       "      <th></th>\n",
       "      <th></th>\n",
       "      <th></th>\n",
       "    </tr>\n",
       "  </thead>\n",
       "  <tbody>\n",
       "    <tr>\n",
       "      <th>2013-06-06</th>\n",
       "      <td>False</td>\n",
       "      <td>3.6750</td>\n",
       "      <td>3.693933</td>\n",
       "      <td>3.80227</td>\n",
       "      <td>0.003134</td>\n",
       "      <td>0.009921</td>\n",
       "      <td>NaN</td>\n",
       "    </tr>\n",
       "    <tr>\n",
       "      <th>2013-06-07</th>\n",
       "      <td>False</td>\n",
       "      <td>3.6740</td>\n",
       "      <td>3.707267</td>\n",
       "      <td>3.81360</td>\n",
       "      <td>-0.000272</td>\n",
       "      <td>0.009933</td>\n",
       "      <td>-0.0010</td>\n",
       "    </tr>\n",
       "    <tr>\n",
       "      <th>2013-06-10</th>\n",
       "      <td>False</td>\n",
       "      <td>3.6165</td>\n",
       "      <td>3.723767</td>\n",
       "      <td>3.82816</td>\n",
       "      <td>-0.015774</td>\n",
       "      <td>0.007766</td>\n",
       "      <td>-0.0575</td>\n",
       "    </tr>\n",
       "    <tr>\n",
       "      <th>2013-06-11</th>\n",
       "      <td>False</td>\n",
       "      <td>3.5710</td>\n",
       "      <td>3.736900</td>\n",
       "      <td>3.84404</td>\n",
       "      <td>-0.012661</td>\n",
       "      <td>0.008173</td>\n",
       "      <td>-0.0455</td>\n",
       "    </tr>\n",
       "    <tr>\n",
       "      <th>2013-06-12</th>\n",
       "      <td>False</td>\n",
       "      <td>3.5570</td>\n",
       "      <td>3.746433</td>\n",
       "      <td>3.85928</td>\n",
       "      <td>-0.003928</td>\n",
       "      <td>0.007608</td>\n",
       "      <td>-0.0140</td>\n",
       "    </tr>\n",
       "  </tbody>\n",
       "</table>\n",
       "</div>"
      ],
      "text/plain": [
       "             Long   Close    MAFast   MASlow    Change  Volatility  \\\n",
       "Date                                                                 \n",
       "2013-06-06  False  3.6750  3.693933  3.80227  0.003134    0.009921   \n",
       "2013-06-07  False  3.6740  3.707267  3.81360 -0.000272    0.009933   \n",
       "2013-06-10  False  3.6165  3.723767  3.82816 -0.015774    0.007766   \n",
       "2013-06-11  False  3.5710  3.736900  3.84404 -0.012661    0.008173   \n",
       "2013-06-12  False  3.5570  3.746433  3.85928 -0.003928    0.007608   \n",
       "\n",
       "            PriceChange  \n",
       "Date                     \n",
       "2013-06-06          NaN  \n",
       "2013-06-07      -0.0010  \n",
       "2013-06-10      -0.0575  \n",
       "2013-06-11      -0.0455  \n",
       "2013-06-12      -0.0140  "
      ]
     },
     "execution_count": 21,
     "metadata": {},
     "output_type": "execute_result"
    }
   ],
   "source": [
    "df_new1.head()"
   ]
  },
  {
   "cell_type": "markdown",
   "metadata": {},
   "source": [
    "##### For short positions, negative PositionValue means positive return"
   ]
  },
  {
   "cell_type": "markdown",
   "metadata": {},
   "source": [
    "#### Create a dataframe that only contains trade and Position Value "
   ]
  },
  {
   "cell_type": "code",
   "execution_count": 22,
   "metadata": {},
   "outputs": [],
   "source": [
    "dfTrade = df_new1[['Long','Close']].copy()"
   ]
  },
  {
   "cell_type": "markdown",
   "metadata": {},
   "source": [
    "##### If Column Long == True, we shoud be in Long position. If Column Long ==False, We should be in Short position"
   ]
  },
  {
   "cell_type": "code",
   "execution_count": 23,
   "metadata": {},
   "outputs": [
    {
     "data": {
      "text/html": [
       "<div>\n",
       "<style scoped>\n",
       "    .dataframe tbody tr th:only-of-type {\n",
       "        vertical-align: middle;\n",
       "    }\n",
       "\n",
       "    .dataframe tbody tr th {\n",
       "        vertical-align: top;\n",
       "    }\n",
       "\n",
       "    .dataframe thead th {\n",
       "        text-align: right;\n",
       "    }\n",
       "</style>\n",
       "<table border=\"1\" class=\"dataframe\">\n",
       "  <thead>\n",
       "    <tr style=\"text-align: right;\">\n",
       "      <th></th>\n",
       "      <th>Long</th>\n",
       "      <th>Close</th>\n",
       "    </tr>\n",
       "    <tr>\n",
       "      <th>Date</th>\n",
       "      <th></th>\n",
       "      <th></th>\n",
       "    </tr>\n",
       "  </thead>\n",
       "  <tbody>\n",
       "    <tr>\n",
       "      <th>2013-06-06</th>\n",
       "      <td>False</td>\n",
       "      <td>3.6750</td>\n",
       "    </tr>\n",
       "    <tr>\n",
       "      <th>2013-06-07</th>\n",
       "      <td>False</td>\n",
       "      <td>3.6740</td>\n",
       "    </tr>\n",
       "    <tr>\n",
       "      <th>2013-06-10</th>\n",
       "      <td>False</td>\n",
       "      <td>3.6165</td>\n",
       "    </tr>\n",
       "    <tr>\n",
       "      <th>2013-06-11</th>\n",
       "      <td>False</td>\n",
       "      <td>3.5710</td>\n",
       "    </tr>\n",
       "    <tr>\n",
       "      <th>2013-06-12</th>\n",
       "      <td>False</td>\n",
       "      <td>3.5570</td>\n",
       "    </tr>\n",
       "    <tr>\n",
       "      <th>2013-06-13</th>\n",
       "      <td>False</td>\n",
       "      <td>3.5425</td>\n",
       "    </tr>\n",
       "    <tr>\n",
       "      <th>2013-06-14</th>\n",
       "      <td>False</td>\n",
       "      <td>3.8235</td>\n",
       "    </tr>\n",
       "    <tr>\n",
       "      <th>2013-06-17</th>\n",
       "      <td>False</td>\n",
       "      <td>3.8365</td>\n",
       "    </tr>\n",
       "    <tr>\n",
       "      <th>2013-06-18</th>\n",
       "      <td>False</td>\n",
       "      <td>3.9500</td>\n",
       "    </tr>\n",
       "    <tr>\n",
       "      <th>2013-06-19</th>\n",
       "      <td>False</td>\n",
       "      <td>3.9890</td>\n",
       "    </tr>\n",
       "    <tr>\n",
       "      <th>2013-06-20</th>\n",
       "      <td>False</td>\n",
       "      <td>3.9445</td>\n",
       "    </tr>\n",
       "    <tr>\n",
       "      <th>2013-06-21</th>\n",
       "      <td>False</td>\n",
       "      <td>3.8660</td>\n",
       "    </tr>\n",
       "    <tr>\n",
       "      <th>2013-06-24</th>\n",
       "      <td>False</td>\n",
       "      <td>3.7485</td>\n",
       "    </tr>\n",
       "    <tr>\n",
       "      <th>2013-06-25</th>\n",
       "      <td>False</td>\n",
       "      <td>3.8350</td>\n",
       "    </tr>\n",
       "    <tr>\n",
       "      <th>2013-06-26</th>\n",
       "      <td>False</td>\n",
       "      <td>3.8720</td>\n",
       "    </tr>\n",
       "  </tbody>\n",
       "</table>\n",
       "</div>"
      ],
      "text/plain": [
       "             Long   Close\n",
       "Date                     \n",
       "2013-06-06  False  3.6750\n",
       "2013-06-07  False  3.6740\n",
       "2013-06-10  False  3.6165\n",
       "2013-06-11  False  3.5710\n",
       "2013-06-12  False  3.5570\n",
       "2013-06-13  False  3.5425\n",
       "2013-06-14  False  3.8235\n",
       "2013-06-17  False  3.8365\n",
       "2013-06-18  False  3.9500\n",
       "2013-06-19  False  3.9890\n",
       "2013-06-20  False  3.9445\n",
       "2013-06-21  False  3.8660\n",
       "2013-06-24  False  3.7485\n",
       "2013-06-25  False  3.8350\n",
       "2013-06-26  False  3.8720"
      ]
     },
     "execution_count": 23,
     "metadata": {},
     "output_type": "execute_result"
    }
   ],
   "source": [
    "dfTrade =dfTrade.dropna()\n",
    "dfTrade.head(15)"
   ]
  },
  {
   "cell_type": "code",
   "execution_count": 24,
   "metadata": {},
   "outputs": [],
   "source": [
    "dfTrade1 = dfTrade"
   ]
  },
  {
   "cell_type": "markdown",
   "metadata": {},
   "source": [
    "## Signals\n",
    "#### - A Long signal is generated when Long column change from False to True\n",
    "#### - A Short signal is generated when Long column change from True to False"
   ]
  },
  {
   "cell_type": "code",
   "execution_count": 25,
   "metadata": {
    "scrolled": true
   },
   "outputs": [
    {
     "data": {
      "text/html": [
       "<div>\n",
       "<style scoped>\n",
       "    .dataframe tbody tr th:only-of-type {\n",
       "        vertical-align: middle;\n",
       "    }\n",
       "\n",
       "    .dataframe tbody tr th {\n",
       "        vertical-align: top;\n",
       "    }\n",
       "\n",
       "    .dataframe thead th {\n",
       "        text-align: right;\n",
       "    }\n",
       "</style>\n",
       "<table border=\"1\" class=\"dataframe\">\n",
       "  <thead>\n",
       "    <tr style=\"text-align: right;\">\n",
       "      <th></th>\n",
       "      <th>Long</th>\n",
       "      <th>Close</th>\n",
       "      <th>Hold</th>\n",
       "    </tr>\n",
       "    <tr>\n",
       "      <th>Date</th>\n",
       "      <th></th>\n",
       "      <th></th>\n",
       "      <th></th>\n",
       "    </tr>\n",
       "  </thead>\n",
       "  <tbody>\n",
       "    <tr>\n",
       "      <th>2013-06-06</th>\n",
       "      <td>False</td>\n",
       "      <td>3.6750</td>\n",
       "      <td>NaN</td>\n",
       "    </tr>\n",
       "    <tr>\n",
       "      <th>2013-06-07</th>\n",
       "      <td>False</td>\n",
       "      <td>3.6740</td>\n",
       "      <td>0</td>\n",
       "    </tr>\n",
       "    <tr>\n",
       "      <th>2013-06-10</th>\n",
       "      <td>False</td>\n",
       "      <td>3.6165</td>\n",
       "      <td>0</td>\n",
       "    </tr>\n",
       "    <tr>\n",
       "      <th>2013-06-11</th>\n",
       "      <td>False</td>\n",
       "      <td>3.5710</td>\n",
       "      <td>0</td>\n",
       "    </tr>\n",
       "    <tr>\n",
       "      <th>2013-06-12</th>\n",
       "      <td>False</td>\n",
       "      <td>3.5570</td>\n",
       "      <td>0</td>\n",
       "    </tr>\n",
       "  </tbody>\n",
       "</table>\n",
       "</div>"
      ],
      "text/plain": [
       "             Long   Close Hold\n",
       "Date                          \n",
       "2013-06-06  False  3.6750  NaN\n",
       "2013-06-07  False  3.6740    0\n",
       "2013-06-10  False  3.6165    0\n",
       "2013-06-11  False  3.5710    0\n",
       "2013-06-12  False  3.5570    0"
      ]
     },
     "execution_count": 25,
     "metadata": {},
     "output_type": "execute_result"
    }
   ],
   "source": [
    "dfTrade1['Hold'] = dfTrade1['Long']-dfTrade1['Long'].shift()\n",
    "dfTrade1.head()\n",
    "# This can also achieved by useing diff()"
   ]
  },
  {
   "cell_type": "markdown",
   "metadata": {},
   "source": [
    "#### Notice from the above Dataframe \n",
    "#### - When Hold ==1 we should close short & open Long position \n",
    "#### - When Hold == -1 we should  close Long &  open a short position\n",
    "    - NOTE: ignore column Long for now, it's uselss now"
   ]
  },
  {
   "cell_type": "code",
   "execution_count": 26,
   "metadata": {},
   "outputs": [
    {
     "data": {
      "text/html": [
       "<div>\n",
       "<style scoped>\n",
       "    .dataframe tbody tr th:only-of-type {\n",
       "        vertical-align: middle;\n",
       "    }\n",
       "\n",
       "    .dataframe tbody tr th {\n",
       "        vertical-align: top;\n",
       "    }\n",
       "\n",
       "    .dataframe thead th {\n",
       "        text-align: right;\n",
       "    }\n",
       "</style>\n",
       "<table border=\"1\" class=\"dataframe\">\n",
       "  <thead>\n",
       "    <tr style=\"text-align: right;\">\n",
       "      <th></th>\n",
       "      <th>Long</th>\n",
       "      <th>Close</th>\n",
       "      <th>Hold</th>\n",
       "    </tr>\n",
       "    <tr>\n",
       "      <th>Date</th>\n",
       "      <th></th>\n",
       "      <th></th>\n",
       "      <th></th>\n",
       "    </tr>\n",
       "  </thead>\n",
       "  <tbody>\n",
       "    <tr>\n",
       "      <th>2013-06-06</th>\n",
       "      <td>False</td>\n",
       "      <td>3.6750</td>\n",
       "      <td>NaN</td>\n",
       "    </tr>\n",
       "    <tr>\n",
       "      <th>2013-07-03</th>\n",
       "      <td>True</td>\n",
       "      <td>4.0030</td>\n",
       "      <td>1</td>\n",
       "    </tr>\n",
       "    <tr>\n",
       "      <th>2013-08-02</th>\n",
       "      <td>False</td>\n",
       "      <td>4.1200</td>\n",
       "      <td>-1</td>\n",
       "    </tr>\n",
       "    <tr>\n",
       "      <th>2013-09-13</th>\n",
       "      <td>True</td>\n",
       "      <td>4.3500</td>\n",
       "      <td>1</td>\n",
       "    </tr>\n",
       "    <tr>\n",
       "      <th>2013-10-25</th>\n",
       "      <td>False</td>\n",
       "      <td>4.2430</td>\n",
       "      <td>-1</td>\n",
       "    </tr>\n",
       "    <tr>\n",
       "      <th>2014-01-03</th>\n",
       "      <td>True</td>\n",
       "      <td>4.1440</td>\n",
       "      <td>1</td>\n",
       "    </tr>\n",
       "    <tr>\n",
       "      <th>2014-01-28</th>\n",
       "      <td>False</td>\n",
       "      <td>4.3550</td>\n",
       "      <td>-1</td>\n",
       "    </tr>\n",
       "    <tr>\n",
       "      <th>2014-02-28</th>\n",
       "      <td>True</td>\n",
       "      <td>5.1000</td>\n",
       "      <td>1</td>\n",
       "    </tr>\n",
       "    <tr>\n",
       "      <th>2014-04-04</th>\n",
       "      <td>False</td>\n",
       "      <td>5.7125</td>\n",
       "      <td>-1</td>\n",
       "    </tr>\n",
       "    <tr>\n",
       "      <th>2014-04-28</th>\n",
       "      <td>True</td>\n",
       "      <td>5.7925</td>\n",
       "      <td>1</td>\n",
       "    </tr>\n",
       "  </tbody>\n",
       "</table>\n",
       "</div>"
      ],
      "text/plain": [
       "             Long   Close Hold\n",
       "Date                          \n",
       "2013-06-06  False  3.6750  NaN\n",
       "2013-07-03   True  4.0030    1\n",
       "2013-08-02  False  4.1200   -1\n",
       "2013-09-13   True  4.3500    1\n",
       "2013-10-25  False  4.2430   -1\n",
       "2014-01-03   True  4.1440    1\n",
       "2014-01-28  False  4.3550   -1\n",
       "2014-02-28   True  5.1000    1\n",
       "2014-04-04  False  5.7125   -1\n",
       "2014-04-28   True  5.7925    1"
      ]
     },
     "execution_count": 26,
     "metadata": {},
     "output_type": "execute_result"
    }
   ],
   "source": [
    "DfTrade2 = dfTrade1.loc[dfTrade1['Hold'] != 0]\n",
    "DfTrade2.head(10)"
   ]
  },
  {
   "cell_type": "code",
   "execution_count": 27,
   "metadata": {},
   "outputs": [
    {
     "data": {
      "text/html": [
       "<div>\n",
       "<style scoped>\n",
       "    .dataframe tbody tr th:only-of-type {\n",
       "        vertical-align: middle;\n",
       "    }\n",
       "\n",
       "    .dataframe tbody tr th {\n",
       "        vertical-align: top;\n",
       "    }\n",
       "\n",
       "    .dataframe thead th {\n",
       "        text-align: right;\n",
       "    }\n",
       "</style>\n",
       "<table border=\"1\" class=\"dataframe\">\n",
       "  <thead>\n",
       "    <tr style=\"text-align: right;\">\n",
       "      <th></th>\n",
       "      <th>Long</th>\n",
       "      <th>Close</th>\n",
       "      <th>Hold</th>\n",
       "      <th>PositionChange</th>\n",
       "    </tr>\n",
       "    <tr>\n",
       "      <th>Date</th>\n",
       "      <th></th>\n",
       "      <th></th>\n",
       "      <th></th>\n",
       "      <th></th>\n",
       "    </tr>\n",
       "  </thead>\n",
       "  <tbody>\n",
       "    <tr>\n",
       "      <th>2013-07-03</th>\n",
       "      <td>True</td>\n",
       "      <td>4.0030</td>\n",
       "      <td>1</td>\n",
       "      <td>NaN</td>\n",
       "    </tr>\n",
       "    <tr>\n",
       "      <th>2013-08-02</th>\n",
       "      <td>False</td>\n",
       "      <td>4.1200</td>\n",
       "      <td>-1</td>\n",
       "      <td>117.000103</td>\n",
       "    </tr>\n",
       "    <tr>\n",
       "      <th>2013-09-13</th>\n",
       "      <td>True</td>\n",
       "      <td>4.3500</td>\n",
       "      <td>1</td>\n",
       "      <td>230.000019</td>\n",
       "    </tr>\n",
       "    <tr>\n",
       "      <th>2013-10-25</th>\n",
       "      <td>False</td>\n",
       "      <td>4.2430</td>\n",
       "      <td>-1</td>\n",
       "      <td>-106.999874</td>\n",
       "    </tr>\n",
       "    <tr>\n",
       "      <th>2014-01-03</th>\n",
       "      <td>True</td>\n",
       "      <td>4.1440</td>\n",
       "      <td>1</td>\n",
       "      <td>-98.999977</td>\n",
       "    </tr>\n",
       "    <tr>\n",
       "      <th>2014-01-28</th>\n",
       "      <td>False</td>\n",
       "      <td>4.3550</td>\n",
       "      <td>-1</td>\n",
       "      <td>210.999966</td>\n",
       "    </tr>\n",
       "    <tr>\n",
       "      <th>2014-02-28</th>\n",
       "      <td>True</td>\n",
       "      <td>5.1000</td>\n",
       "      <td>1</td>\n",
       "      <td>744.999886</td>\n",
       "    </tr>\n",
       "    <tr>\n",
       "      <th>2014-04-04</th>\n",
       "      <td>False</td>\n",
       "      <td>5.7125</td>\n",
       "      <td>-1</td>\n",
       "      <td>612.500191</td>\n",
       "    </tr>\n",
       "    <tr>\n",
       "      <th>2014-04-28</th>\n",
       "      <td>True</td>\n",
       "      <td>5.7925</td>\n",
       "      <td>1</td>\n",
       "      <td>79.999924</td>\n",
       "    </tr>\n",
       "    <tr>\n",
       "      <th>2014-05-15</th>\n",
       "      <td>False</td>\n",
       "      <td>5.7750</td>\n",
       "      <td>-1</td>\n",
       "      <td>-17.499924</td>\n",
       "    </tr>\n",
       "    <tr>\n",
       "      <th>2014-06-11</th>\n",
       "      <td>True</td>\n",
       "      <td>6.1100</td>\n",
       "      <td>1</td>\n",
       "      <td>335.000038</td>\n",
       "    </tr>\n",
       "    <tr>\n",
       "      <th>2014-07-15</th>\n",
       "      <td>False</td>\n",
       "      <td>5.9325</td>\n",
       "      <td>-1</td>\n",
       "      <td>-177.500248</td>\n",
       "    </tr>\n",
       "    <tr>\n",
       "      <th>2014-08-21</th>\n",
       "      <td>True</td>\n",
       "      <td>6.4950</td>\n",
       "      <td>1</td>\n",
       "      <td>562.500000</td>\n",
       "    </tr>\n",
       "    <tr>\n",
       "      <th>2014-10-02</th>\n",
       "      <td>False</td>\n",
       "      <td>6.7850</td>\n",
       "      <td>-1</td>\n",
       "      <td>289.999962</td>\n",
       "    </tr>\n",
       "    <tr>\n",
       "      <th>2014-11-04</th>\n",
       "      <td>True</td>\n",
       "      <td>7.7150</td>\n",
       "      <td>1</td>\n",
       "      <td>930.000305</td>\n",
       "    </tr>\n",
       "    <tr>\n",
       "      <th>2015-01-07</th>\n",
       "      <td>False</td>\n",
       "      <td>8.6175</td>\n",
       "      <td>-1</td>\n",
       "      <td>902.500153</td>\n",
       "    </tr>\n",
       "    <tr>\n",
       "      <th>2015-03-03</th>\n",
       "      <td>True</td>\n",
       "      <td>12.3350</td>\n",
       "      <td>1</td>\n",
       "      <td>3717.499733</td>\n",
       "    </tr>\n",
       "    <tr>\n",
       "      <th>2015-04-28</th>\n",
       "      <td>False</td>\n",
       "      <td>15.0000</td>\n",
       "      <td>-1</td>\n",
       "      <td>2664.999962</td>\n",
       "    </tr>\n",
       "    <tr>\n",
       "      <th>2015-06-24</th>\n",
       "      <td>True</td>\n",
       "      <td>12.8850</td>\n",
       "      <td>1</td>\n",
       "      <td>-2114.999771</td>\n",
       "    </tr>\n",
       "    <tr>\n",
       "      <th>2015-07-30</th>\n",
       "      <td>False</td>\n",
       "      <td>10.7000</td>\n",
       "      <td>-1</td>\n",
       "      <td>-2185.000420</td>\n",
       "    </tr>\n",
       "  </tbody>\n",
       "</table>\n",
       "</div>"
      ],
      "text/plain": [
       "             Long    Close Hold  PositionChange\n",
       "Date                                           \n",
       "2013-07-03   True   4.0030    1             NaN\n",
       "2013-08-02  False   4.1200   -1      117.000103\n",
       "2013-09-13   True   4.3500    1      230.000019\n",
       "2013-10-25  False   4.2430   -1     -106.999874\n",
       "2014-01-03   True   4.1440    1      -98.999977\n",
       "2014-01-28  False   4.3550   -1      210.999966\n",
       "2014-02-28   True   5.1000    1      744.999886\n",
       "2014-04-04  False   5.7125   -1      612.500191\n",
       "2014-04-28   True   5.7925    1       79.999924\n",
       "2014-05-15  False   5.7750   -1      -17.499924\n",
       "2014-06-11   True   6.1100    1      335.000038\n",
       "2014-07-15  False   5.9325   -1     -177.500248\n",
       "2014-08-21   True   6.4950    1      562.500000\n",
       "2014-10-02  False   6.7850   -1      289.999962\n",
       "2014-11-04   True   7.7150    1      930.000305\n",
       "2015-01-07  False   8.6175   -1      902.500153\n",
       "2015-03-03   True  12.3350    1     3717.499733\n",
       "2015-04-28  False  15.0000   -1     2664.999962\n",
       "2015-06-24   True  12.8850    1    -2114.999771\n",
       "2015-07-30  False  10.7000   -1    -2185.000420"
      ]
     },
     "execution_count": 27,
     "metadata": {},
     "output_type": "execute_result"
    }
   ],
   "source": [
    "DfTrade2 = DfTrade2.dropna()\n",
    "# Change of 1 share of stock * 1000 share, assume our position size is 1000\n",
    "DfTrade2['PositionChange'] = (DfTrade2['Close']-DfTrade2['Close'].shift())*1000\n",
    "DfTrade2.head(20)"
   ]
  },
  {
   "cell_type": "code",
   "execution_count": 28,
   "metadata": {},
   "outputs": [],
   "source": [
    "DfTrade2 = DfTrade2.dropna()"
   ]
  },
  {
   "cell_type": "markdown",
   "metadata": {},
   "source": [
    "####  When Hold == -1 we should close Long & open Short position, so the Position Change Column is the return of closed previous Long position\n"
   ]
  },
  {
   "cell_type": "code",
   "execution_count": 29,
   "metadata": {},
   "outputs": [
    {
     "data": {
      "text/html": [
       "<div>\n",
       "<style scoped>\n",
       "    .dataframe tbody tr th:only-of-type {\n",
       "        vertical-align: middle;\n",
       "    }\n",
       "\n",
       "    .dataframe tbody tr th {\n",
       "        vertical-align: top;\n",
       "    }\n",
       "\n",
       "    .dataframe thead th {\n",
       "        text-align: right;\n",
       "    }\n",
       "</style>\n",
       "<table border=\"1\" class=\"dataframe\">\n",
       "  <thead>\n",
       "    <tr style=\"text-align: right;\">\n",
       "      <th></th>\n",
       "      <th>Long</th>\n",
       "      <th>Close</th>\n",
       "      <th>Hold</th>\n",
       "      <th>PositionChange</th>\n",
       "    </tr>\n",
       "    <tr>\n",
       "      <th>Date</th>\n",
       "      <th></th>\n",
       "      <th></th>\n",
       "      <th></th>\n",
       "      <th></th>\n",
       "    </tr>\n",
       "  </thead>\n",
       "  <tbody>\n",
       "    <tr>\n",
       "      <th>2013-08-02</th>\n",
       "      <td>False</td>\n",
       "      <td>4.1200</td>\n",
       "      <td>-1</td>\n",
       "      <td>117.000103</td>\n",
       "    </tr>\n",
       "    <tr>\n",
       "      <th>2013-10-25</th>\n",
       "      <td>False</td>\n",
       "      <td>4.2430</td>\n",
       "      <td>-1</td>\n",
       "      <td>-106.999874</td>\n",
       "    </tr>\n",
       "    <tr>\n",
       "      <th>2014-01-28</th>\n",
       "      <td>False</td>\n",
       "      <td>4.3550</td>\n",
       "      <td>-1</td>\n",
       "      <td>210.999966</td>\n",
       "    </tr>\n",
       "    <tr>\n",
       "      <th>2014-04-04</th>\n",
       "      <td>False</td>\n",
       "      <td>5.7125</td>\n",
       "      <td>-1</td>\n",
       "      <td>612.500191</td>\n",
       "    </tr>\n",
       "    <tr>\n",
       "      <th>2014-05-15</th>\n",
       "      <td>False</td>\n",
       "      <td>5.7750</td>\n",
       "      <td>-1</td>\n",
       "      <td>-17.499924</td>\n",
       "    </tr>\n",
       "  </tbody>\n",
       "</table>\n",
       "</div>"
      ],
      "text/plain": [
       "             Long   Close Hold  PositionChange\n",
       "Date                                          \n",
       "2013-08-02  False  4.1200   -1      117.000103\n",
       "2013-10-25  False  4.2430   -1     -106.999874\n",
       "2014-01-28  False  4.3550   -1      210.999966\n",
       "2014-04-04  False  5.7125   -1      612.500191\n",
       "2014-05-15  False  5.7750   -1      -17.499924"
      ]
     },
     "execution_count": 29,
     "metadata": {},
     "output_type": "execute_result"
    }
   ],
   "source": [
    "DfLongReturn = DfTrade2.loc[DfTrade2['Hold'] == -1]\n",
    "DfLongReturn.head()"
   ]
  },
  {
   "cell_type": "markdown",
   "metadata": {},
   "source": [
    "#### When Hold ==1 we should close short & open Long position, so the Position Change Column is the return of closed previous short position\n"
   ]
  },
  {
   "cell_type": "markdown",
   "metadata": {},
   "source": [
    "#### Subset dataframe into 2 dataframes, one contains Long trades' Position Change, another one only contains Short trades's Position Change"
   ]
  },
  {
   "cell_type": "code",
   "execution_count": 30,
   "metadata": {},
   "outputs": [
    {
     "data": {
      "text/html": [
       "<div>\n",
       "<style scoped>\n",
       "    .dataframe tbody tr th:only-of-type {\n",
       "        vertical-align: middle;\n",
       "    }\n",
       "\n",
       "    .dataframe tbody tr th {\n",
       "        vertical-align: top;\n",
       "    }\n",
       "\n",
       "    .dataframe thead th {\n",
       "        text-align: right;\n",
       "    }\n",
       "</style>\n",
       "<table border=\"1\" class=\"dataframe\">\n",
       "  <thead>\n",
       "    <tr style=\"text-align: right;\">\n",
       "      <th></th>\n",
       "      <th>Long</th>\n",
       "      <th>Close</th>\n",
       "      <th>Hold</th>\n",
       "      <th>PositionChange</th>\n",
       "    </tr>\n",
       "    <tr>\n",
       "      <th>Date</th>\n",
       "      <th></th>\n",
       "      <th></th>\n",
       "      <th></th>\n",
       "      <th></th>\n",
       "    </tr>\n",
       "  </thead>\n",
       "  <tbody>\n",
       "    <tr>\n",
       "      <th>2013-09-13</th>\n",
       "      <td>True</td>\n",
       "      <td>4.3500</td>\n",
       "      <td>1</td>\n",
       "      <td>230.000019</td>\n",
       "    </tr>\n",
       "    <tr>\n",
       "      <th>2014-01-03</th>\n",
       "      <td>True</td>\n",
       "      <td>4.1440</td>\n",
       "      <td>1</td>\n",
       "      <td>-98.999977</td>\n",
       "    </tr>\n",
       "    <tr>\n",
       "      <th>2014-02-28</th>\n",
       "      <td>True</td>\n",
       "      <td>5.1000</td>\n",
       "      <td>1</td>\n",
       "      <td>744.999886</td>\n",
       "    </tr>\n",
       "    <tr>\n",
       "      <th>2014-04-28</th>\n",
       "      <td>True</td>\n",
       "      <td>5.7925</td>\n",
       "      <td>1</td>\n",
       "      <td>79.999924</td>\n",
       "    </tr>\n",
       "    <tr>\n",
       "      <th>2014-06-11</th>\n",
       "      <td>True</td>\n",
       "      <td>6.1100</td>\n",
       "      <td>1</td>\n",
       "      <td>335.000038</td>\n",
       "    </tr>\n",
       "  </tbody>\n",
       "</table>\n",
       "</div>"
      ],
      "text/plain": [
       "            Long   Close Hold  PositionChange\n",
       "Date                                         \n",
       "2013-09-13  True  4.3500    1      230.000019\n",
       "2014-01-03  True  4.1440    1      -98.999977\n",
       "2014-02-28  True  5.1000    1      744.999886\n",
       "2014-04-28  True  5.7925    1       79.999924\n",
       "2014-06-11  True  6.1100    1      335.000038"
      ]
     },
     "execution_count": 30,
     "metadata": {},
     "output_type": "execute_result"
    }
   ],
   "source": [
    "DfShortReturn = DfTrade2.loc[DfTrade2['Hold'] == 1]\n",
    "DfShortReturn.head()"
   ]
  },
  {
   "cell_type": "code",
   "execution_count": 31,
   "metadata": {},
   "outputs": [
    {
     "name": "stdout",
     "output_type": "stream",
     "text": [
      "16565.500259399414\n"
     ]
    }
   ],
   "source": [
    "totalLongReturn = DfLongReturn['PositionChange'].sum()\n",
    "print(totalLongReturn)"
   ]
  },
  {
   "cell_type": "markdown",
   "metadata": {},
   "source": [
    "##### Since Short selling benefit from decreasing price , when the number is negative, it's actaully good. So we need to change positive to negative, or negative to abs()"
   ]
  },
  {
   "cell_type": "code",
   "execution_count": 32,
   "metadata": {},
   "outputs": [
    {
     "name": "stdout",
     "output_type": "stream",
     "text": [
      "-3441.500186920166\n"
     ]
    }
   ],
   "source": [
    "totalShortReturn = -DfShortReturn['PositionChange'].sum()\n",
    "print(totalShortReturn)"
   ]
  },
  {
   "cell_type": "markdown",
   "metadata": {},
   "source": [
    "### The total return "
   ]
  },
  {
   "cell_type": "code",
   "execution_count": 33,
   "metadata": {},
   "outputs": [
    {
     "name": "stdout",
     "output_type": "stream",
     "text": [
      "In 4 years our simple moving average strategy generated return:$ 13124.000072479248\n"
     ]
    }
   ],
   "source": [
    "#The total return \n",
    "print('In 4 years our simple moving average strategy generated return:$',totalLongReturn + totalShortReturn)"
   ]
  },
  {
   "cell_type": "markdown",
   "metadata": {},
   "source": [
    "#### Trading of Be Semiconductors seems to produce good return from Long positions. Short selling stock sounds like a cool game, but Shorting is dangerous, espeically short equity Index, stock markets seems to have upwards bias. An interesting article https://jlcollinsnh.com/2012/04/19/stocks-part-ii-the-market-always-goes-up/"
   ]
  },
  {
   "cell_type": "code",
   "execution_count": 34,
   "metadata": {},
   "outputs": [
    {
     "data": {
      "text/html": [
       "<div>\n",
       "<style scoped>\n",
       "    .dataframe tbody tr th:only-of-type {\n",
       "        vertical-align: middle;\n",
       "    }\n",
       "\n",
       "    .dataframe tbody tr th {\n",
       "        vertical-align: top;\n",
       "    }\n",
       "\n",
       "    .dataframe thead th {\n",
       "        text-align: right;\n",
       "    }\n",
       "</style>\n",
       "<table border=\"1\" class=\"dataframe\">\n",
       "  <thead>\n",
       "    <tr style=\"text-align: right;\">\n",
       "      <th></th>\n",
       "      <th>High</th>\n",
       "      <th>Low</th>\n",
       "      <th>Open</th>\n",
       "      <th>Close</th>\n",
       "      <th>Volume</th>\n",
       "      <th>Adj Close</th>\n",
       "    </tr>\n",
       "    <tr>\n",
       "      <th>Date</th>\n",
       "      <th></th>\n",
       "      <th></th>\n",
       "      <th></th>\n",
       "      <th></th>\n",
       "      <th></th>\n",
       "      <th></th>\n",
       "    </tr>\n",
       "  </thead>\n",
       "  <tbody>\n",
       "    <tr>\n",
       "      <th>1980-01-01</th>\n",
       "      <td>108.430000</td>\n",
       "      <td>103.260002</td>\n",
       "      <td>107.940002</td>\n",
       "      <td>106.809998</td>\n",
       "      <td>174720000</td>\n",
       "      <td>106.809998</td>\n",
       "    </tr>\n",
       "    <tr>\n",
       "      <th>1980-01-08</th>\n",
       "      <td>111.440002</td>\n",
       "      <td>106.290001</td>\n",
       "      <td>106.809998</td>\n",
       "      <td>110.379997</td>\n",
       "      <td>280450000</td>\n",
       "      <td>110.379997</td>\n",
       "    </tr>\n",
       "    <tr>\n",
       "      <th>1980-01-15</th>\n",
       "      <td>112.900002</td>\n",
       "      <td>109.449997</td>\n",
       "      <td>110.379997</td>\n",
       "      <td>112.099998</td>\n",
       "      <td>269380000</td>\n",
       "      <td>112.099998</td>\n",
       "    </tr>\n",
       "    <tr>\n",
       "      <th>1980-01-22</th>\n",
       "      <td>115.650002</td>\n",
       "      <td>110.919998</td>\n",
       "      <td>112.099998</td>\n",
       "      <td>114.849998</td>\n",
       "      <td>261140000</td>\n",
       "      <td>114.849998</td>\n",
       "    </tr>\n",
       "    <tr>\n",
       "      <th>1980-01-29</th>\n",
       "      <td>117.169998</td>\n",
       "      <td>113.029999</td>\n",
       "      <td>114.849998</td>\n",
       "      <td>114.370003</td>\n",
       "      <td>262230000</td>\n",
       "      <td>114.370003</td>\n",
       "    </tr>\n",
       "  </tbody>\n",
       "</table>\n",
       "</div>"
      ],
      "text/plain": [
       "                  High         Low        Open       Close     Volume  \\\n",
       "Date                                                                    \n",
       "1980-01-01  108.430000  103.260002  107.940002  106.809998  174720000   \n",
       "1980-01-08  111.440002  106.290001  106.809998  110.379997  280450000   \n",
       "1980-01-15  112.900002  109.449997  110.379997  112.099998  269380000   \n",
       "1980-01-22  115.650002  110.919998  112.099998  114.849998  261140000   \n",
       "1980-01-29  117.169998  113.029999  114.849998  114.370003  262230000   \n",
       "\n",
       "             Adj Close  \n",
       "Date                    \n",
       "1980-01-01  106.809998  \n",
       "1980-01-08  110.379997  \n",
       "1980-01-15  112.099998  \n",
       "1980-01-22  114.849998  \n",
       "1980-01-29  114.370003  "
      ]
     },
     "execution_count": 34,
     "metadata": {},
     "output_type": "execute_result"
    }
   ],
   "source": [
    "SandP = pdr.get_data_yahoo('^GSPC', '1980-01-01', '2019-04-30', interval='w')\n",
    "SandP.head()"
   ]
  },
  {
   "cell_type": "markdown",
   "metadata": {},
   "source": [
    "#### Charting S&P index from 1980 -01-01 to 2019-04-30"
   ]
  },
  {
   "cell_type": "code",
   "execution_count": 35,
   "metadata": {
    "scrolled": false
   },
   "outputs": [
    {
     "data": {
      "text/plain": [
       "<function matplotlib.pyplot.show(*args, **kw)>"
      ]
     },
     "execution_count": 35,
     "metadata": {},
     "output_type": "execute_result"
    },
    {
     "data": {
      "image/png": "[encoded data removed]",
      "text/plain": [
       "<Figure size 1080x720 with 1 Axes>"
      ]
     },
     "metadata": {
      "needs_background": "light"
     },
     "output_type": "display_data"
    }
   ],
   "source": [
    "#plot the close price\n",
    "plt.figure(figsize=(15,10))\n",
    "SandP['Close'].plot(grid =True)\n",
    "plt.title(\"S&P 500 Weekly Chart\")\n",
    "plt.show"
   ]
  },
  {
   "cell_type": "markdown",
   "metadata": {},
   "source": [
    "### Note for average passive investors"
   ]
  },
  {
   "cell_type": "markdown",
   "metadata": {},
   "source": [
    "#### If you look at S&P 's weekly chart above, the equity market seems to have upwards bias all the time. For average investors the best strategy might just be passive and buy Index ETF everytime the after market gets a correction(dip down),  and use momentum indicator as buy signal, exit the long trade when the momentum indictor give short signal. "
   ]
  },
  {
   "cell_type": "code",
   "execution_count": null,
   "metadata": {},
   "outputs": [],
   "source": []
  }
 ],
 "metadata": {
  "kernelspec": {
   "display_name": "Python 3",
   "language": "python",
   "name": "python3"
  },
  "language_info": {
   "codemirror_mode": {
    "name": "ipython",
    "version": 3
   },
   "file_extension": ".py",
   "mimetype": "text/x-python",
   "name": "python",
   "nbconvert_exporter": "python",
   "pygments_lexer": "ipython3",
   "version": "3.7.3"
  }
 },
 "nbformat": 4,
 "nbformat_minor": 2
}
